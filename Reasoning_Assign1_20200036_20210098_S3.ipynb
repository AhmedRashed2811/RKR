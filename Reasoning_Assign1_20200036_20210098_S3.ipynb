{
 "cells": [
  {
   "cell_type": "markdown",
   "id": "1da4346d",
   "metadata": {},
   "source": [
    "# Ahmed Mohamed Ahmed   20200036     S3\n",
    "# Tasneem Ramadan              20210098     S3"
   ]
  },
  {
   "cell_type": "markdown",
   "id": "43a1335f",
   "metadata": {},
   "source": [
    "#"
   ]
  },
  {
   "cell_type": "code",
   "execution_count": 1,
   "id": "ce972e19",
   "metadata": {},
   "outputs": [],
   "source": [
    "import re"
   ]
  },
  {
   "cell_type": "markdown",
   "id": "b5a04968",
   "metadata": {},
   "source": [
    "## Eliminate Imlication"
   ]
  },
  {
   "cell_type": "code",
   "execution_count": 90,
   "id": "6cd6d0ba",
   "metadata": {
    "scrolled": true
   },
   "outputs": [
    {
     "name": "stdout",
     "output_type": "stream",
     "text": [
      "( (P(x) or Q(y)) and (P(x) or Q(y)) )\n",
      "( (not(P(x)) or not(Q(y))) and (not(P(x)) or not(Q(y))) )\n",
      "( (not(P(x)) or Q(y)) and (not(P(x)) or Q(y)) )\n",
      "( (P(x) or not(Q(y))) and (P(x) or not(Q(y))) )\n",
      "( not(P(x)) or Q(y) )\n",
      "( P(x)) or Q(y) )\n",
      "( not(P(x)) or not(Q(y)) )\n",
      "( P(x)) or not(Q(y)) )\n"
     ]
    }
   ],
   "source": [
    "def eliminate_implication(expression):                   \n",
    "    \n",
    "    pattern = r'(\\w+\\(\\w+\\))\\s*=>\\s*(\\w+\\(\\w+\\))'                 # P(x) => Q(x)   ======>  not(P(x)) or  Q(x)\n",
    "    substitution = r' not(\\1) or \\2 '\n",
    "    expression = re.sub(pattern, substitution, expression)\n",
    "    \n",
    "    pattern6 = r'not\\s*\\((\\s*\\w+\\(\\w+\\)\\))\\s*=>\\s*(\\w+\\(\\w+\\))'   # not(P(x)) => Q(x)   ======>  P(x) or  Q(x)\n",
    "    substitution6 = r' \\1 or \\2 '\n",
    "    expression = re.sub(pattern6, substitution6, expression)\n",
    "    \n",
    "    pattern7 = r'(\\w+\\(\\w+\\))\\s*=>\\s*(not\\s*\\(\\s*\\w+\\(\\w+\\)\\))'   # P(x) => Q(x)   ======>  not(P(x)) or  Q(x)\n",
    "    substitution7 = r' not(\\1) or \\2 '\n",
    "    expression = re.sub(pattern7, substitution7, expression)\n",
    "    \n",
    "    pattern8 = r'not\\s*\\((\\s*\\w+\\(\\w+\\)\\))\\s*=>\\s*(not\\s*\\(\\s*\\w+\\(\\w+\\)\\))'   # P(x) => Q(x)   ======>  not(P(x)) or  Q(x)\n",
    "    substitution8 = r' \\1 or \\2 '\n",
    "    expression = re.sub(pattern8, substitution8, expression)\n",
    "    \n",
    "    pattern2 = r'(\\w+\\(\\w+\\))\\s*<=>\\s*(\\w+\\(\\w+\\))'               # P(x) <=> Q(x)   ======>  (P(x) or Q(y)) and (P(x) or Q(y))\n",
    "    substitution2 = r' (\\1 or \\2) and (\\1 or \\2) '\n",
    "    expression = re.sub(pattern2, substitution2, expression)\n",
    "    \n",
    "    pattern3 = r'(not\\s*\\(\\s*\\w+\\(\\w+\\)\\))\\s*<=>\\s*(\\w+\\(\\w+\\))'  # not(P(x)) <=> Q(x)   \n",
    "    substitution3 = r' (\\1 or \\2) and (\\1 or \\2) '\n",
    "    expression = re.sub(pattern3, substitution3, expression)\n",
    "    \n",
    "    pattern4 = r'(\\w+\\(\\w+\\))\\s*<=>\\s*(not\\s*\\(\\s*\\w+\\(\\w+\\)\\))'  # P(x) <=> not(Q(x))   \n",
    "    substitution4 = r' (\\1 or \\2) and (\\1 or \\2) '\n",
    "    expression = re.sub(pattern4, substitution4, expression)\n",
    "    \n",
    "    pattern5 = r'(not\\s*\\(\\s*\\w+\\(\\w+\\)\\))\\s*<=>\\s*(not\\s*\\(\\s*\\w+\\(\\w+\\)\\))'  # not(P(x)) <=> not(Q(x))   \n",
    "    substitution5 = r' (\\1 or \\2) and (\\1 or \\2) '\n",
    "    expression = re.sub(pattern5, substitution5, expression)\n",
    "    \n",
    "    return expression\n",
    "\n",
    "\n",
    "expression = \"(P(x) <=> Q(y))\"\n",
    "print(eliminate_implication(expression))\n",
    "\n",
    "expression = \"(not(P(x)) <=> not(Q(y)))\"\n",
    "print(eliminate_implication(expression))\n",
    "\n",
    "expression = \"(not(P(x)) <=> Q(y))\"\n",
    "print(eliminate_implication(expression))\n",
    "\n",
    "expression = \"(P(x) <=> not(Q(y)))\"\n",
    "print(eliminate_implication(expression))\n",
    "\n",
    "expression = \"(P(x) => Q(y))\"\n",
    "print(eliminate_implication(expression))\n",
    "\n",
    "expression = \"(not(P(x)) => Q(y))\"\n",
    "print(eliminate_implication(expression))\n",
    "\n",
    "expression = \"(P(x) => not(Q(y)))\"\n",
    "print(eliminate_implication(expression))\n",
    "\n",
    "expression = \"(not(P(x)) => not(Q(y)))\"\n",
    "print(eliminate_implication(expression))"
   ]
  },
  {
   "cell_type": "markdown",
   "id": "19f9788f",
   "metadata": {},
   "source": [
    "## Demorgan"
   ]
  },
  {
   "cell_type": "code",
   "execution_count": 239,
   "id": "fd6b1b34",
   "metadata": {},
   "outputs": [
    {
     "data": {
      "text/plain": [
       "'forall x ( exists y ( (((P(x))) or not(Q(x)))) and forall z ( (R(z) or not Q(y)) ) ) '"
      ]
     },
     "execution_count": 239,
     "metadata": {},
     "output_type": "execute_result"
    }
   ],
   "source": [
    "def demorgan(expression):                           # not ( P(x) or Q(x) )   ======>  not(P(x)) and not(Q(x))\n",
    "                                                    # not ( P(x) and Q(x) )  ======>  not(P(x)) or  not(Q(x))\n",
    "    words_needed_count = 0                          \n",
    "    counter = 0\n",
    "    first = \"\"\n",
    "    second = \"\"\n",
    "    and_exist = False\n",
    "    or_exist = False\n",
    "    final_answer = \"\"\n",
    "    start =\"\"\n",
    "    rest = \"\"\n",
    "    expression = expression.replace(\"not(not\", \"\")\n",
    "    \n",
    "    # ------------------------------------------------------------------------ ALGORITHM\n",
    "    for word in expression.split():    \n",
    "        # --------------------if the word is \"not\" and found the pattern \n",
    "        if word == \"not\" and (expression.split()[counter + 5] == \")\"):\n",
    "            \n",
    "            for i in range(counter + 1, len(expression.split())):\n",
    "                \n",
    "                #---------------------If the pattern ends eg. \"not ( P(x) or Q(x) )\"  ) ) \n",
    "                if expression.split()[i][-1] == \")\" and expression.split()[i+1] == \")\":\n",
    "                    break\n",
    "                    \n",
    "                first = expression.split()[i-1]     # The First Term\n",
    "\n",
    "                if expression.split()[i] == \"and\":  # IF and\n",
    "                    and_exist = True\n",
    "                    continue\n",
    "                elif expression.split()[i] == \"or\": # IF or\n",
    "                    or_exist = True\n",
    "                    continue\n",
    "\n",
    "                second = expression.split()[i+2]   # The Last Term\n",
    "            \n",
    "            #--------------------- If it was and\n",
    "            if and_exist:             \n",
    "                final_answer = f\"{start}(not({first}) or not({second}))\"     # The Needed Equivalent Term\n",
    "\n",
    "            #--------------------- If it was or\n",
    "            if or_exist:\n",
    "                final_answer = f\"{start}(not({first}) and not({second}))\"    # The Needed Equivalent Term\n",
    "\n",
    "                \n",
    "            #--------------------- Get the Rest of the Expression\n",
    "            for j in range(counter + 6, len(expression.split())):\n",
    "                rest += f\"{expression.split()[j]} \"\n",
    "    \n",
    "            \n",
    "            expression = f\"{final_answer} {rest}\"             # Concatination\n",
    "            expression = expression.replace(\"not(not\", \"(\")   # Removing \"not not\" \n",
    "            return (expression)                               # Returning the Final Expression\n",
    "\n",
    "        \n",
    "        #--------------------- Get the Start of the Expression\n",
    "        else:\n",
    "            start += f\"{word} \"\n",
    "        \n",
    "        if counter == len(expression.split()) -5: \n",
    "            break    \n",
    "\n",
    "        counter += 1\n",
    "        \n",
    "    return expression\n",
    "\n",
    "expression = \"forall x ( exists y ( not ( not(P(x)) and Q(x)) ) and forall z ( (R(z) or not Q(y)) ) )\"\n",
    "demorgan(expression)"
   ]
  },
  {
   "cell_type": "markdown",
   "id": "445f7cf7",
   "metadata": {},
   "source": [
    "## Standarize Variable Scope"
   ]
  },
  {
   "cell_type": "code",
   "execution_count": 233,
   "id": "b9a4fa13",
   "metadata": {},
   "outputs": [
    {
     "data": {
      "text/plain": [
       "'forall x ( exists y ( (P(x) => Q(y)) or not ( P(x) or Q(x) ) ) and forall z ( (R(z) or not Q(BBB)) ) )'"
      ]
     },
     "execution_count": 233,
     "metadata": {},
     "output_type": "execute_result"
    }
   ],
   "source": [
    "def standardize_variable_scope(expression):\n",
    "    \n",
    "    #-----------------------------------------------------------Find the Scope of each Varibale \n",
    "    def scope_range(expression):\n",
    "        \n",
    "        #---------------------------------------------Find the Closing Parentheses\n",
    "        def find_closing_parentheses(expression, start_index):\n",
    "            open_count = 0\n",
    "            closing_indices = []\n",
    "            for i in range(start_index, len(expression)):\n",
    "                if expression[i] == '(':\n",
    "                    open_count += 1\n",
    "                elif expression[i] == ')':\n",
    "                    open_count -= 1\n",
    "                    if open_count == 0:\n",
    "                        closing_indices.append(i)\n",
    "            return closing_indices\n",
    "\n",
    "        \n",
    "        opening_indices = [i for i, char in enumerate(expression) if char == '(']\n",
    "        closing_indices = {}\n",
    "\n",
    "        for start_index in opening_indices:\n",
    "            closing_indices[start_index] = find_closing_parentheses(expression, start_index)\n",
    "\n",
    "        all_indices = []\n",
    "        for start_index, indices in closing_indices.items():\n",
    "            all_indices.append(indices)\n",
    "            \n",
    "        return all_indices\n",
    "\n",
    "\n",
    "    \n",
    "    list_of_parentheses = scope_range(expression)\n",
    "    counter = 0\n",
    "    temp = 0\n",
    "    list_of_letters = [\"CCC\", \"BBB\", \"DDD\", \"EEE\",\"FFF\"]  # Values to Substitute with\n",
    "    temp2 = 0\n",
    "    \n",
    "    for l in expression:\n",
    "        #----------------------------------If the letters are (f o r a l l)\n",
    "        if l == \"f\" and expression[counter+1]==\"o\" and expression[counter+2]==\"r\" and expression[counter+3]==\"a\" and expression[counter+4]==\"l\"and expression[counter+5]==\"l\":\n",
    "            \n",
    "            character = expression[counter+7]   # Character to be Substituted\n",
    "            \n",
    "            #----------------------- Search for the variable out of the scope of \"forall\" and subsitute it\n",
    "            for j in range(list_of_parentheses[temp][0], len(expression)):\n",
    "                \n",
    "                if expression[j] == character:\n",
    "                    string_list = list(expression)              # Convert string to list\n",
    "                    string_list[j] = list_of_letters[temp2]     # Change the character at the specified positio\n",
    "                    expression =  ''.join(string_list)          # Convert list back to string\n",
    "\n",
    "            temp2 += 1\n",
    "        \n",
    "        #----------------------------------If the letters are (e x i s t s)\n",
    "        if l == \"e\" and expression[counter+1]==\"x\" and expression[counter+2]==\"i\" and expression[counter+3]==\"s\" and expression[counter+4]==\"t\"and expression[counter+5]==\"s\":\n",
    "            \n",
    "            character = expression[counter+7]   # Character to be Substituted\n",
    "            \n",
    "            #----------------------- Search for the variable out of the scope of \"exists\" and subsitute it\n",
    "            for j in range(list_of_parentheses[temp][0],len(expression)):\n",
    "                \n",
    "                if expression[j] == character:\n",
    "                    string_list = list(expression)             # Convert string to list\n",
    "                    string_list[j] = list_of_letters[temp2]    # Change the character at the specified position\n",
    "                    expression =  ''.join(string_list)         # Convert list back to string\n",
    "\n",
    "            temp2 += 1\n",
    "            \n",
    "        if l == \"(\":\n",
    "            temp+= 1\n",
    "\n",
    "        counter += 1\n",
    "        if counter == len(expression):\n",
    "            break\n",
    "\n",
    "    return expression    \n",
    "\n",
    "expression = \"forall x ( exists y ( (P(x) => Q(y)) or not ( P(x) or Q(x) ) ) and forall z ( (R(z) or not Q(y)) ) )\"\n",
    "standardize_variable_scope(expression)"
   ]
  },
  {
   "cell_type": "markdown",
   "id": "1a9d833a",
   "metadata": {},
   "source": [
    "## Prenex Normal Form"
   ]
  },
  {
   "cell_type": "code",
   "execution_count": 235,
   "id": "17706172",
   "metadata": {},
   "outputs": [
    {
     "data": {
      "text/plain": [
       "'forall x exists y forall z ( P(x) and ( Q(y) ) or ( R(x,z) ) ) '"
      ]
     },
     "execution_count": 235,
     "metadata": {},
     "output_type": "execute_result"
    }
   ],
   "source": [
    "def prenex_normal_form(expression):                       \n",
    "    \n",
    "    pattern = \"\"\n",
    "    rest = \"\"\n",
    "    counter = 0\n",
    "    temp = False     # Variable to determine if anu action is done\n",
    "    \n",
    "    for word in expression.split():\n",
    "        if word == \"forall\" and counter < len(expression.split()):\n",
    "            variable = expression.split()[counter + 1]             # Variable of forall\n",
    "            pattern+= f\"forall {variable} \"\n",
    "            temp = True\n",
    "            \n",
    "        elif word == \"exists\" and counter < len(expression.split()):\n",
    "            variable = expression.split()[counter + 1]             # Variable of exists\n",
    "            pattern+= f\"exists {variable} \"\n",
    "            temp = True\n",
    "            \n",
    "        else:\n",
    "            if temp == True:          # If Action is done\n",
    "                temp = False\n",
    "            \n",
    "            else:                     # If no action is done\n",
    "                rest += f\"{word} \"\n",
    "        counter += 1\n",
    "\n",
    "    final_answer = f\"{pattern}{rest}\"\n",
    "    return final_answer\n",
    "\n",
    "\n",
    "expression = \"forall x  ( P(x) and exists y ( Q(y) ) or forall z ( R(x,z) ) ) \"\n",
    "prenex_normal_form(expression)"
   ]
  },
  {
   "cell_type": "markdown",
   "id": "3f9675f2",
   "metadata": {},
   "source": [
    "## Skolemization"
   ]
  },
  {
   "cell_type": "code",
   "execution_count": 6,
   "id": "3124f246",
   "metadata": {},
   "outputs": [
    {
     "data": {
      "text/plain": [
       "'forall x ( (P(x) and ( Q(C) ) or forall z ( (R(x,z))) ) )'"
      ]
     },
     "execution_count": 6,
     "metadata": {},
     "output_type": "execute_result"
    }
   ],
   "source": [
    "def skolemization(expression):                     #------------------Remove Exists\n",
    "    \n",
    "    variables_to_be_removed = []\n",
    "    variables_to_be_removed_with = [\"C\", \"U\", \"M\", \"N\", \"G\"]\n",
    "    counter = 0\n",
    "    final_answer = \"\"\n",
    "    \n",
    "    for word in expression.split():\n",
    "        if word == \"exists\":\n",
    "            variables_to_be_removed.append(expression.split()[counter+1])  # Get the Variable of the \"Exists\"\n",
    "\n",
    "        counter += 1\n",
    "\n",
    "    expression = expression.replace(\"exists\",\"\")            # Remove the Exists\n",
    "\n",
    "    counter = 0\n",
    "    \n",
    "    #-----------------------------------Remove the 1st variable and Subsitute the Rest \n",
    "    for letter in variables_to_be_removed:\n",
    "        expression = expression.replace(letter,\"\", 1)       # Remove the 1st Variable \"Exists y\"  ==> y\n",
    "        expression = expression.replace(letter,variables_to_be_removed_with[counter])  # Substitue the Rest\n",
    "        counter += 1\n",
    "\n",
    "    return \" \".join(expression.split())\n",
    "\n",
    "\n",
    "expression = \"forall x ( (P(x) and exists y ( Q(y) ) or forall z ( (R(x,z))) ) )\"\n",
    "skolemization(expression)"
   ]
  },
  {
   "cell_type": "markdown",
   "id": "cf827fc9",
   "metadata": {},
   "source": [
    "## Eliminate Universal Quantifiers"
   ]
  },
  {
   "cell_type": "code",
   "execution_count": 236,
   "id": "274139ec",
   "metadata": {},
   "outputs": [
    {
     "data": {
      "text/plain": [
       "'(P(x) and Q(C) or (R(x,U) and O(M))) '"
      ]
     },
     "execution_count": 236,
     "metadata": {},
     "output_type": "execute_result"
    }
   ],
   "source": [
    "def eliminate_universal_quantifiers(expression):          #------------------Remove Forall\n",
    "    \n",
    "    counter = 0\n",
    "    final_answer = \"\"\n",
    "    \n",
    "    for word in expression.split():\n",
    "        \n",
    "        #----------- If the word is \"forall\" skip it\n",
    "        if word == \"forall\":\n",
    "            counter += 1\n",
    "            continue\n",
    "            \n",
    "        #----------- If the word is the variable of \"forall\" skip it\n",
    "        if counter == 1:\n",
    "            counter = 0\n",
    "            continue\n",
    "\n",
    "        final_answer += f\"{word} \"\n",
    "\n",
    "    return final_answer\n",
    "\n",
    "expression = 'forall x (P(x) and Q(C) or (R(x,U) and O(M)))'\n",
    "eliminate_universal_quantifiers(expression)"
   ]
  },
  {
   "cell_type": "markdown",
   "id": "d01d2451",
   "metadata": {},
   "source": [
    "## Distribution"
   ]
  },
  {
   "cell_type": "code",
   "execution_count": 244,
   "id": "769f364a",
   "metadata": {},
   "outputs": [
    {
     "data": {
      "text/plain": [
       "'forall x (P(x) and Q(C) or (R(x,U) and O(M)) and ( (not(Y(x)) or O(x) ) and (not(Y(x)) or not(T(x))) ) )'"
      ]
     },
     "execution_count": 244,
     "metadata": {},
     "output_type": "execute_result"
    }
   ],
   "source": [
    "def distribution(expression):\n",
    "    \n",
    "    pattern = r\"\\((\\s*(n*o*t*\\s*\\(?\\w+\\(\\w+\\)\\s*\\)?)\\s*)(and)\\s*\\(\\s*(n*o*t*\\s*\\(?\\w+\\(\\w+\\)\\s*\\)?)\\s*(or)\\s*(n*o*t*\\s*\\(?\\w+\\(\\w+\\)\\s*\\)?)\\)\\)\"\n",
    "    substitution = r\"( (\\1\\3 \\4) \\5 (\\1\\3 \\6) )\" \n",
    "    expression = re.sub(pattern, substitution, expression)   # p(x) and (q(x) or z(x))  ==> (p(x) and q(x)) or (p(x) and z(x))\n",
    "\n",
    "    pattern = r\"\\((\\s*(n*o*t*\\s*\\(?\\w+\\(\\w+\\)\\s*\\)?)\\s*)(or)\\s*\\(\\s*(n*o*t*\\s*\\(?\\w+\\(\\w+\\)\\s*\\)?)\\s*(and)\\s*(n*o*t*\\s*\\(?\\w+\\(\\w+\\)\\s*\\)?)\\)\\)\"\n",
    "    substitution = r\"( (\\1\\3 \\4) \\5 (\\1\\3 \\6) )\"            # p(x) or (q(x) and z(x))  ==> (p(x) or q(x)) and (p(x) or z(x))\n",
    "    expression = re.sub(pattern, substitution, expression)\n",
    "    \n",
    "    return expression\n",
    "\n",
    "\n",
    "expression = \"forall x (P(x) and Q(C) or (R(x,U) and O(M)) and (not(Y(x)) or (O(x) and not(T(x)))) )\"\n",
    "distribution(expression)"
   ]
  },
  {
   "cell_type": "markdown",
   "id": "9ffdc4e4",
   "metadata": {},
   "source": [
    "## Simplify Logical Expression"
   ]
  },
  {
   "cell_type": "code",
   "execution_count": 237,
   "id": "cc460ed9",
   "metadata": {},
   "outputs": [
    {
     "data": {
      "text/plain": [
       "'(((P(x) or Q(C)) and (P(x) or Q(C))) and ((not P(x) or Q(C)) or (not P(x) and (not Q(x)))) and (not P(x) or not Q(x))) and ((U(z) or R(z)) and (U(z) or not Q(BBB)))'"
      ]
     },
     "execution_count": 237,
     "metadata": {},
     "output_type": "execute_result"
    }
   ],
   "source": [
    "import ast\n",
    "\n",
    "def simplify_logical_expression(expression):\n",
    "    # Parse the expression into an abstract syntax tree\n",
    "    parsed_expression = ast.parse(expression, mode='eval')\n",
    "\n",
    "    # Regenerate the expression from the abstract syntax tree\n",
    "    simplified_expression = ast.unparse(parsed_expression)\n",
    "\n",
    "    return simplified_expression\n",
    "\n",
    "expression = \"( ( (P(x) or Q(C)) and (P(x) or Q(C)) ) and ( ( not(P(x)) or Q(C) ) or (not(P(x)) and not(Q(x))) ) and (not(P(x)) or not(Q(x))) ) and ( ( U(z) or R(z) ) and ( U(z) or not(Q(BBB)) )  )\"\n",
    "simplify_logical_expression(expression)"
   ]
  },
  {
   "cell_type": "markdown",
   "id": "4e7fc75c",
   "metadata": {},
   "source": [
    "##"
   ]
  },
  {
   "cell_type": "markdown",
   "id": "fa05848f",
   "metadata": {},
   "source": [
    "## Convert to CNF With Resolution Procedure"
   ]
  },
  {
   "cell_type": "code",
   "execution_count": 245,
   "id": "cf23d480",
   "metadata": {},
   "outputs": [],
   "source": [
    "def CNF_resolution_procedure(expression):\n",
    "    \n",
    "    expression = eliminate_implication(expression)\n",
    "    for word in expression.split():\n",
    "        if word == \"not\":\n",
    "            expression = demorgan(expression)\n",
    "    expression = standardize_variable_scope(expression)\n",
    "    expression = prenex_normal_form(expression)\n",
    "    expression = skolemization(expression)\n",
    "    expression = eliminate_universal_quantifiers(expression)\n",
    "    expression = distribution(expression)\n",
    "    expression = simplify_logical_expression(expression)\n",
    "    \n",
    "    return expression"
   ]
  },
  {
   "cell_type": "markdown",
   "id": "b7695b93",
   "metadata": {},
   "source": [
    "## Test"
   ]
  },
  {
   "cell_type": "code",
   "execution_count": 246,
   "id": "f19fb41d",
   "metadata": {},
   "outputs": [
    {
     "data": {
      "text/plain": [
       "'(((P(x) or Q(C)) and (P(x) or Q(C))) and ((not P(x) or Q(C)) or (not P(x) and (not Q(x)))) and (not P(x) or not Q(x))) and ((U(z) or R(z)) and (U(z) or not Q(BBB)))'"
      ]
     },
     "execution_count": 246,
     "metadata": {},
     "output_type": "execute_result"
    }
   ],
   "source": [
    "expression = \"forall x ( (P(x) <=> Q(y)) and exists y ( (P(x) => Q(y)) or not ( P(x) or Q(x) ) ) and not ( P(x) and Q(x) ) ) and forall z ( U(z) or (R(z) and not(Q(y))) )\"\n",
    "\n",
    "CNF_resolution_procedure(expression)"
   ]
  },
  {
   "cell_type": "code",
   "execution_count": null,
   "id": "afb22017",
   "metadata": {},
   "outputs": [],
   "source": []
  }
 ],
 "metadata": {
  "kernelspec": {
   "display_name": "Python 3 (ipykernel)",
   "language": "python",
   "name": "python3"
  },
  "language_info": {
   "codemirror_mode": {
    "name": "ipython",
    "version": 3
   },
   "file_extension": ".py",
   "mimetype": "text/x-python",
   "name": "python",
   "nbconvert_exporter": "python",
   "pygments_lexer": "ipython3",
   "version": "3.11.5"
  }
 },
 "nbformat": 4,
 "nbformat_minor": 5
}
